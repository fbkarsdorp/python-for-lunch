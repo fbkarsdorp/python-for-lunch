{
 "cells": [
  {
   "cell_type": "markdown",
   "metadata": {},
   "source": [
    "<img src=\"images/python-lunch.jpg\" align=\"right\" width=100/><h1>Python for Lunch</h1>"
   ]
  },
  {
   "cell_type": "markdown",
   "metadata": {},
   "source": [
    "#### [Folgert Karsdorp](https://github.com/fbkarsdorp)"
   ]
  },
  {
   "cell_type": "markdown",
   "metadata": {},
   "source": [
    "---"
   ]
  },
  {
   "cell_type": "code",
   "execution_count": 27,
   "metadata": {
    "collapsed": false
   },
   "outputs": [
    {
     "name": "stdout",
     "output_type": "stream",
     "text": [
      "There ain't no such thing as a free lunch.\n"
     ]
    }
   ],
   "source": [
    "print(\"There ain't no such thing as a free lunch.\")"
   ]
  },
  {
   "cell_type": "markdown",
   "metadata": {},
   "source": [
    "Everyone can learn how to program and the best way to learn is by doing. During this lunch you will be asked to write a lot of code. Click any block of code in this tutorial, such as the one above, and press ctrl+enter to run it. Let's begin right away and write our first little program! Have a look at the following code block, run it, and try to understand what is happening. Can you replace some or all of the words with different ones to print a new sentence?"
   ]
  },
  {
   "cell_type": "code",
   "execution_count": 24,
   "metadata": {
    "collapsed": false
   },
   "outputs": [
    {
     "name": "stdout",
     "output_type": "stream",
     "text": [
      "Python for Lunch\n"
     ]
    }
   ],
   "source": [
    "word1 = \"Python\"\n",
    "word2 = \"for\"\n",
    "word3 = \"Lunch\"\n",
    "\n",
    "print(word1 + \" \" + word2 + \" \" + word3)"
   ]
  },
  {
   "cell_type": "markdown",
   "metadata": {},
   "source": [
    "In the previous code block, we made use of so-called variables. Variables can thought of as kind of container in which you can store all kinds of information. In the previous example we stored the string `\"Python\"` into the variable `word1`. Although they look similar, there is an important difference between strings such as `\"Python\"` and variables such as `word2`. As you can see strings are surrounded by quotation marks, whereas variables are not. Without those quotes Python thinks its dealing with variables. To make the difference more clear, have a look at the following lines of code. "
   ]
  },
  {
   "cell_type": "code",
   "execution_count": 26,
   "metadata": {
    "collapsed": false
   },
   "outputs": [
    {
     "name": "stdout",
     "output_type": "stream",
     "text": [
      "Lunch for Python\n"
     ]
    }
   ],
   "source": [
    "Python = \"Lunch\"\n",
    "Lunch = \"Python\"\n",
    "\n",
    "print(Python + \" \" + word2 + \" \" + Lunch)"
   ]
  },
  {
   "cell_type": "markdown",
   "metadata": {},
   "source": [
    "This example shows that variable names can be chosen arbitrarily. *We* give a certain value a name, and we are free to pick one to our liking. It is, however, recommended to use senseful names because it helps you to remember what you stored in a variable. \n",
    "\n",
    "Variables are not just strings. They can also be numbers or other more complicated objects which we'll see in a moment. A more general term for the objects we store into variables is *value*. If you read a programming book, people generally speak about storing, or assigning values to variables. Have a look at the following code block. Can you add a line at the bottom that prints the addition of `small_number` and `large_number`?"
   ]
  },
  {
   "cell_type": "code",
   "execution_count": null,
   "metadata": {
    "collapsed": true
   },
   "outputs": [],
   "source": [
    "small_number = 1\n",
    "large_number = 100000000"
   ]
  },
  {
   "cell_type": "markdown",
   "metadata": {},
   "source": [
    "Even more tricky: can you store the result of adding these numbers into a new variable called `even_larger_number`?"
   ]
  },
  {
   "cell_type": "code",
   "execution_count": null,
   "metadata": {
    "collapsed": true
   },
   "outputs": [],
   "source": [
    "# remove this line and insert your code"
   ]
  },
  {
   "cell_type": "markdown",
   "metadata": {},
   "source": [
    "This very basic concept of variables and values lies at the heart of almost all computer code. Variables allow to store information for later reuse and manipulation, to which we will now turn."
   ]
  },
  {
   "cell_type": "markdown",
   "metadata": {},
   "source": [
    "---"
   ]
  },
  {
   "cell_type": "markdown",
   "metadata": {},
   "source": [
    "## Python for Data Carpentry"
   ]
  },
  {
   "cell_type": "markdown",
   "metadata": {},
   "source": [
    "<img src=\"images/messydata.jpeg\" align=\"right\" width=400/>For scholars in the Humanities working with text, text cleaning is probably one of the most important and most labour intensive activities. A lot of data collections we work with come from old manuscripts, websites, books and often in a format that is not easily readable. Moreover, the data is often highly messy and needs cleansing before we can proceed with our analyses. Python can be an immense help in both obtaining and cleaning data for further research. I will try to show some of the basic steps you need to take to obtain and clean your data. We will work with a nice corpus of chain letters which can be found [here](http://www.silcom.com/~barnowl/chain-letter/archive/%21content.html). \n",
    "\n",
    "If you want to obtain this corpus without the help of Python (or some other programming language), you probably need to click on each of the letters, copy the contents of the page and manually save that in a file. As the archive consists of over 900 letters, this will probably take you a day if not more. Once you have some basic understanding of Python, you could write a script to do all this tedious and boring work for you. Let's start with downloading a single letter. The following code block contains a lot of new stuff that you don't yet. Still, you should be able to figure out what is going on here. Have a go!"
   ]
  },
  {
   "cell_type": "code",
   "execution_count": null,
   "metadata": {
    "collapsed": false
   },
   "outputs": [],
   "source": [
    "import requests\n",
    "\n",
    "url = \"http://www.silcom.com/~barnowl/chain-letter/archive/le1995-08_dl-_wk.htm\"\n",
    "webpage = requests.get(url)\n",
    "\n",
    "print(webpage.text)"
   ]
  },
  {
   "cell_type": "markdown",
   "metadata": {},
   "source": [
    "Python is an open source, and very popular programming language. As such, many people have written programs for Python that you can use. One example is the `requests` library which we used in this example. It comes preinstalled with the Anaconda Python distribution and you can import those libraries using the statement `import name-of-the-library-you-want-to-import`. If you're using a different distribution of Python, you can can download the library from here: [http://www.python-requests.org/en/latest/](http://www.python-requests.org/en/latest/).\n",
    "\n",
    "Now that we have downloaded the file, we would like to remove all HTML markup. Of course, automatically. The library [Beautiful Soup](http://www.crummy.com/software/BeautifulSoup/) is yet another wonderful example of freely available and open source software. We will use that library to extract all the text from the HTML page. Again, just try to read the code, execute the cell, and try figure out what is happening."
   ]
  },
  {
   "cell_type": "code",
   "execution_count": null,
   "metadata": {
    "collapsed": false
   },
   "outputs": [],
   "source": [
    "import bs4\n",
    "\n",
    "souped = bs4.BeautifulSoup(webpage.text)\n",
    "\n",
    "print(souped.text)"
   ]
  },
  {
   "cell_type": "markdown",
   "metadata": {},
   "source": [
    "The only left is to write some code that will automatically download all the letters we're interested in. In this brief tutorial I don't have the time to fully explain how you can do that. I want to download all chain letters of the *death lottery* type. The manual of the website explains that these letters contain the tagt `_dl_` in their url. I also only want to extract the English chain letter. This is marked with the tag `le`. The following code block contains all the code you need to download all the pages, extract the text and store them into a variable called `death_lottery_pages`. Have a look. Don't be scared. Just try to figure out what the different parts probably try to achieve. \n",
    "\n",
    "**A little warning**: it will take some time to download all the pages. So once, you executed the cell, please be patient."
   ]
  },
  {
   "cell_type": "code",
   "execution_count": 88,
   "metadata": {
    "collapsed": false
   },
   "outputs": [],
   "source": [
    "archive = requests.get(\"http://www.silcom.com/~barnowl/chain-letter/archive/%21content.html\")\n",
    "souped = bs4.BeautifulSoup(archive.text)\n",
    "\n",
    "death_lottery_links = []\n",
    "for link in souped.find_all('a', href=True):\n",
    "    if '_dl_' in link['href'] and link['href'].startswith('le'):\n",
    "        death_lottery_links.append(link['href'])\n",
    "\n",
    "base_url = \"http://www.silcom.com/~barnowl/chain-letter/archive/\"\n",
    "death_lottery_pages = []\n",
    "for link in death_lottery_links:\n",
    "    fullink = base_url + link\n",
    "    webpage = requests.get(fullink)\n",
    "    souped_page = bs4.BeautifulSoup(webpage.text)\n",
    "    death_lottery_pages.append(souped_page.text)"
   ]
  },
  {
   "cell_type": "code",
   "execution_count": 98,
   "metadata": {
    "collapsed": false
   },
   "outputs": [
    {
     "data": {
      "text/plain": [
       "158"
      ]
     },
     "execution_count": 98,
     "metadata": {},
     "output_type": "execute_result"
    }
   ],
   "source": [
    "len(death_lottery_pages)"
   ]
  },
  {
   "cell_type": "markdown",
   "metadata": {},
   "source": [
    "The variable `death_lottery_pages` now holds 158 chain letters. This variable is called a `list`, which is an orderded sequence of objects. You can print a single letter by indexing this list:"
   ]
  },
  {
   "cell_type": "code",
   "execution_count": null,
   "metadata": {
    "collapsed": false
   },
   "outputs": [],
   "source": [
    "print(death_lottery_pages[1])"
   ]
  },
  {
   "cell_type": "markdown",
   "metadata": {},
   "source": [
    "Can you change the number in the code above to print a different letter?\n",
    "\n",
    "As you can see, the letters still contain a lot of whitespace that we would rather remove. Python has a lot of functionality to work with text. A very convenient function is called `strip`, which allows you to remove unwanted whitespace from a string. Let's see how that works:"
   ]
  },
  {
   "cell_type": "code",
   "execution_count": null,
   "metadata": {
    "collapsed": false
   },
   "outputs": [],
   "source": [
    "print(death_lottery_pages[1].strip())"
   ]
  },
  {
   "cell_type": "markdown",
   "metadata": {},
   "source": [
    "That's already a lot better, but we're not quite there yet. There are many sophisticated tokenizer available, but these are not included with the Anaconda distribution. An example is the [NLTK tokenizer](http://www.nltk.org/) or the [tokenizer](http://nlp.stanford.edu/software/) developed at Stanford University. For now we will make use of a fairly simple tokenizer that is a little rough on the edges, but it will do. We import and use the tokenizer as follows:"
   ]
  },
  {
   "cell_type": "code",
   "execution_count": 119,
   "metadata": {
    "collapsed": false
   },
   "outputs": [
    {
     "data": {
      "text/plain": [
       "['luck',\n",
       " 'chain',\n",
       " 'letter',\n",
       " 'published',\n",
       " 'condensed',\n",
       " 'death',\n",
       " 'lottery',\n",
       " 'type',\n",
       " 'names',\n",
       " 'us',\n",
       " 'luck',\n",
       " 'chain',\n",
       " 'letter',\n",
       " 'published',\n",
       " 'condensed',\n",
       " 'death',\n",
       " 'lottery',\n",
       " 'type',\n",
       " 'names',\n",
       " 'us',\n",
       " 'trust',\n",
       " 'is',\n",
       " 'the',\n",
       " 'lord',\n",
       " 'with',\n",
       " 'all',\n",
       " 'your',\n",
       " 'heart',\n",
       " 'and',\n",
       " 'in',\n",
       " 'all',\n",
       " 'thy',\n",
       " 'ways',\n",
       " 'acknowledge',\n",
       " 'him',\n",
       " 'and',\n",
       " 'he',\n",
       " 'will',\n",
       " 'light',\n",
       " 'the',\n",
       " 'way',\n",
       " 'this',\n",
       " 'prayer',\n",
       " 'has',\n",
       " 'been',\n",
       " 'sent',\n",
       " 'to',\n",
       " 'you',\n",
       " 'for',\n",
       " 'good',\n",
       " 'luck',\n",
       " 'the',\n",
       " 'original',\n",
       " 'copy',\n",
       " 'came',\n",
       " 'from',\n",
       " 'the',\n",
       " 'netherlands',\n",
       " 'it',\n",
       " 'has',\n",
       " 'been',\n",
       " 'around',\n",
       " 'the',\n",
       " 'world',\n",
       " 'nine',\n",
       " 'times',\n",
       " 'the',\n",
       " 'luck',\n",
       " 'has',\n",
       " 'been',\n",
       " 'sent',\n",
       " 'to',\n",
       " 'you',\n",
       " 'you',\n",
       " 'are',\n",
       " 'to',\n",
       " 'receive',\n",
       " 'good',\n",
       " 'luck',\n",
       " 'within',\n",
       " 'four',\n",
       " 'days',\n",
       " 'after',\n",
       " 'receiving',\n",
       " 'this',\n",
       " 'letter',\n",
       " 'it',\n",
       " 'is',\n",
       " 'no',\n",
       " 'joke',\n",
       " 'you',\n",
       " 'will',\n",
       " 'receive',\n",
       " 'it',\n",
       " 'in',\n",
       " 'the',\n",
       " 'mail',\n",
       " 'send',\n",
       " 'copies',\n",
       " 'of',\n",
       " 'this',\n",
       " 'letter',\n",
       " 'to',\n",
       " 'people',\n",
       " 'you',\n",
       " 'think',\n",
       " 'need',\n",
       " 'good',\n",
       " 'luck',\n",
       " 'please',\n",
       " 'do',\n",
       " 'not',\n",
       " 'send',\n",
       " 'money',\n",
       " 'it',\n",
       " 'must',\n",
       " 'leave',\n",
       " 'within',\n",
       " 'hours',\n",
       " 'after',\n",
       " 'you',\n",
       " 'receive',\n",
       " 'it',\n",
       " 'a',\n",
       " 'u',\n",
       " 's',\n",
       " 'officer',\n",
       " 'received',\n",
       " 'don',\n",
       " 'elliott',\n",
       " 'received',\n",
       " 'but',\n",
       " 'lost',\n",
       " 'it',\n",
       " 'because',\n",
       " 'he',\n",
       " 'broke',\n",
       " 'the',\n",
       " 'chain',\n",
       " 'while',\n",
       " 'in',\n",
       " 'the',\n",
       " 'philippines',\n",
       " 'senator',\n",
       " 'walsh',\n",
       " 'lost',\n",
       " 'his',\n",
       " 'wife',\n",
       " 'six',\n",
       " 'days',\n",
       " 'after',\n",
       " 'he',\n",
       " 'received',\n",
       " 'this',\n",
       " 'letter',\n",
       " 'for',\n",
       " 'he',\n",
       " 'failed',\n",
       " 'to',\n",
       " 'circulate',\n",
       " 'the',\n",
       " 'prayer',\n",
       " 'however',\n",
       " 'before',\n",
       " 'his',\n",
       " 'death',\n",
       " 'he',\n",
       " 'received',\n",
       " 'which',\n",
       " 'he',\n",
       " 'won',\n",
       " 'please',\n",
       " 'send',\n",
       " 'copies',\n",
       " 'and',\n",
       " 'then',\n",
       " 'see',\n",
       " 'what',\n",
       " 'happens',\n",
       " 'on',\n",
       " 'the',\n",
       " 'fourth',\n",
       " 'day',\n",
       " 'after',\n",
       " 'add',\n",
       " 'your',\n",
       " 'name',\n",
       " 'to',\n",
       " 'the',\n",
       " 'bottom',\n",
       " 'of',\n",
       " 'this',\n",
       " 'list',\n",
       " 'and',\n",
       " 'leave',\n",
       " 'the',\n",
       " 'top',\n",
       " 'name',\n",
       " 'off',\n",
       " 'when',\n",
       " 'copying',\n",
       " 'this',\n",
       " 'letter',\n",
       " 'long',\n",
       " 'list',\n",
       " 'of',\n",
       " 'names',\n",
       " 'here',\n",
       " 'this',\n",
       " 'chain',\n",
       " 'which',\n",
       " 'comes',\n",
       " 'from',\n",
       " 'venezuela',\n",
       " 'was',\n",
       " 'written',\n",
       " 'by',\n",
       " 'st',\n",
       " 'antione',\n",
       " 'de',\n",
       " 'cadi',\n",
       " 'a',\n",
       " 'missionary',\n",
       " 'from',\n",
       " 'south',\n",
       " 'africa',\n",
       " 'since',\n",
       " 'this',\n",
       " 'chain',\n",
       " 'must',\n",
       " 'take',\n",
       " 'a',\n",
       " 'tour',\n",
       " 'of',\n",
       " 'the',\n",
       " 'world',\n",
       " 'you',\n",
       " 'mail',\n",
       " 'copies',\n",
       " 'identical',\n",
       " 'to',\n",
       " 'this',\n",
       " 'one',\n",
       " 'and',\n",
       " 'send',\n",
       " 'them',\n",
       " 'to',\n",
       " 'your',\n",
       " 'friends',\n",
       " 'parents',\n",
       " 'acquaintances',\n",
       " 'and',\n",
       " 'after',\n",
       " 'a',\n",
       " 'few',\n",
       " 'days',\n",
       " 'you',\n",
       " 'will',\n",
       " 'get',\n",
       " 'a',\n",
       " 'surprise',\n",
       " 'this',\n",
       " 'is',\n",
       " 'true',\n",
       " 'even',\n",
       " 'if',\n",
       " 'you',\n",
       " 'are',\n",
       " 'not',\n",
       " 'superstitious',\n",
       " 'take',\n",
       " 'not',\n",
       " 'of',\n",
       " 'the',\n",
       " 'following',\n",
       " 'constance',\n",
       " 'dias',\n",
       " 'received',\n",
       " 'the',\n",
       " 'chain',\n",
       " 'in',\n",
       " 'she',\n",
       " 'asked',\n",
       " 'her',\n",
       " 'secretary',\n",
       " 'to',\n",
       " 'make',\n",
       " 'copies',\n",
       " 'and',\n",
       " 'send',\n",
       " 'them',\n",
       " 'out',\n",
       " 'a',\n",
       " 'few',\n",
       " 'days',\n",
       " 'later',\n",
       " 'she',\n",
       " 'won',\n",
       " 'the',\n",
       " 'lottery',\n",
       " 'of',\n",
       " 'million',\n",
       " 'in',\n",
       " 'her',\n",
       " 'country',\n",
       " 'charles',\n",
       " 'brent',\n",
       " 'an',\n",
       " 'office',\n",
       " 'employee',\n",
       " 'received',\n",
       " 'the',\n",
       " 'chain',\n",
       " 'he',\n",
       " 'forgot',\n",
       " 'it',\n",
       " 'and',\n",
       " 'lost',\n",
       " 'it',\n",
       " 'a',\n",
       " 'few',\n",
       " 'days',\n",
       " 'later',\n",
       " 'he',\n",
       " 'lost',\n",
       " 'his',\n",
       " 'job',\n",
       " 'he',\n",
       " 'found',\n",
       " 'the',\n",
       " 'chain',\n",
       " 'and',\n",
       " 'sent',\n",
       " 'it',\n",
       " 'to',\n",
       " 'people',\n",
       " 'nine',\n",
       " 'days',\n",
       " 'later',\n",
       " 'he',\n",
       " 'found',\n",
       " 'a',\n",
       " 'better',\n",
       " 'job',\n",
       " 'for',\n",
       " 'no',\n",
       " 'reason',\n",
       " 'should',\n",
       " 'this',\n",
       " 'chain',\n",
       " 'be',\n",
       " 'broken',\n",
       " 'make',\n",
       " 'copies',\n",
       " 'and',\n",
       " 'send',\n",
       " 'them',\n",
       " 'in',\n",
       " 'about',\n",
       " 'nine',\n",
       " 'days',\n",
       " 'you',\n",
       " 'will',\n",
       " 'get',\n",
       " 'a',\n",
       " 'surprise',\n",
       " 'condensed',\n",
       " 'text',\n",
       " 'of',\n",
       " 'letter',\n",
       " 'names',\n",
       " 'not',\n",
       " 'listed',\n",
       " 'published',\n",
       " 'in',\n",
       " 'fate',\n",
       " 'august',\n",
       " 'the',\n",
       " 'chain',\n",
       " 'letter',\n",
       " 'don',\n",
       " 't',\n",
       " 'you',\n",
       " 'believe',\n",
       " 'it',\n",
       " 'by',\n",
       " 'harold',\n",
       " 'sherman',\n",
       " 'see',\n",
       " 'bibliography',\n",
       " 'text',\n",
       " 'and',\n",
       " 'paragraphing',\n",
       " 'exactly',\n",
       " 'as',\n",
       " 'transcribed',\n",
       " 'there',\n",
       " 'sherman',\n",
       " 'a',\n",
       " 'psychic',\n",
       " 'said',\n",
       " 'he',\n",
       " 'received',\n",
       " 'it',\n",
       " 'from',\n",
       " 'a',\n",
       " 'well',\n",
       " 'known',\n",
       " 'friend',\n",
       " 'whose',\n",
       " 'name',\n",
       " 'appeared',\n",
       " 'last',\n",
       " 'on',\n",
       " 'a',\n",
       " 'long',\n",
       " 'list',\n",
       " 'positioned',\n",
       " 'internally',\n",
       " 'after',\n",
       " 'the',\n",
       " 'd',\n",
       " 'block',\n",
       " 'as',\n",
       " 'indicated',\n",
       " 'above',\n",
       " 'le',\n",
       " 'p_dl_n_sherman',\n",
       " 'the',\n",
       " 'paper',\n",
       " 'chain',\n",
       " 'letter',\n",
       " 'archive',\n",
       " 'contents',\n",
       " 'chain',\n",
       " 'letter',\n",
       " 'evolution']"
      ]
     },
     "execution_count": 119,
     "metadata": {},
     "output_type": "execute_result"
    }
   ],
   "source": [
    "from simple_tokenizer import tokenize\n",
    "\n",
    "tokenize(death_lottery_pages[1], lowercase=False)"
   ]
  },
  {
   "cell_type": "markdown",
   "metadata": {},
   "source": [
    "Can you change the argument `lowercase=False` to `lowercase=True`?\n",
    "\n",
    "Finally, we will create a tokenized version of our chain letter corpus using the following lines of code: "
   ]
  },
  {
   "cell_type": "code",
   "execution_count": 122,
   "metadata": {
    "collapsed": false
   },
   "outputs": [],
   "source": [
    "death_lottery_corpus = []\n",
    "for letter in death_lottery_pages:\n",
    "    death_lottery_corpus.append(tokenize(letter, lowercase=True))"
   ]
  },
  {
   "cell_type": "markdown",
   "metadata": {},
   "source": [
    "---"
   ]
  },
  {
   "cell_type": "markdown",
   "metadata": {},
   "source": [
    "## Python for Data Analysis"
   ]
  },
  {
   "cell_type": "markdown",
   "metadata": {},
   "source": [
    "<img src=\"images/dataanalysis.jpg\" align=\"left\" width=400/> We now proceed with a brief introduction into data analysis with Python. There are again many excellent libraries available for doing data analysis. The most sophisticated data analysis library is the Python Data Analysis Library, or Pandas. Pandas is an open source library providing high-performance, easy-to-use data structures and data analysis tools for the Python programming language. It comes preinstalled with the Ananconda Python distribution. \n",
    "\n",
    "I would like to show some basic exploratory analyses that help you to get a better idea of the data your working with. In the previous section we created a corpus of chain letters. Let's try to obtain some general statistics from this corpus. First we print the number of letters in the corpus:"
   ]
  },
  {
   "cell_type": "code",
   "execution_count": 123,
   "metadata": {
    "collapsed": false
   },
   "outputs": [
    {
     "name": "stdout",
     "output_type": "stream",
     "text": [
      "158\n"
     ]
    }
   ],
   "source": [
    "print(len(death_lottery_corpus))"
   ]
  },
  {
   "cell_type": "markdown",
   "metadata": {},
   "source": [
    "Next it would be interesting to know the average word token length of the letters. We start with initializing a variable in which we sum the number words per letter. We then divided that number by the number of letters in the corpus:"
   ]
  },
  {
   "cell_type": "code",
   "execution_count": 125,
   "metadata": {
    "collapsed": false
   },
   "outputs": [
    {
     "name": "stdout",
     "output_type": "stream",
     "text": [
      "419.3987341772152\n"
     ]
    }
   ],
   "source": [
    "token_count = 0\n",
    "for letter in death_lottery_corpus:\n",
    "    for word in letter:\n",
    "        token_count += 1\n",
    "        \n",
    "print(token_count / len(death_lottery_corpus))"
   ]
  },
  {
   "cell_type": "markdown",
   "metadata": {},
   "source": [
    "The build-in library `statistics` let's you compute a number of basic statistics in a much more convenient way. Let's first create a list holding for each letter the number of tokens."
   ]
  },
  {
   "cell_type": "code",
   "execution_count": 131,
   "metadata": {
    "collapsed": false
   },
   "outputs": [],
   "source": [
    "from statistics import stdev, mean, variance\n",
    "\n",
    "letter_lengths = []\n",
    "for letter in death_lottery_corpus:\n",
    "    letter_lengths.append(len(letter))"
   ]
  },
  {
   "cell_type": "markdown",
   "metadata": {},
   "source": [
    "We can then use this list to compute the mean:"
   ]
  },
  {
   "cell_type": "code",
   "execution_count": 140,
   "metadata": {
    "collapsed": false
   },
   "outputs": [
    {
     "data": {
      "text/plain": [
       "419.3987341772152"
      ]
     },
     "execution_count": 140,
     "metadata": {},
     "output_type": "execute_result"
    }
   ],
   "source": [
    "mean(letter_lengths)"
   ]
  },
  {
   "cell_type": "markdown",
   "metadata": {},
   "source": [
    "the variance:"
   ]
  },
  {
   "cell_type": "code",
   "execution_count": 141,
   "metadata": {
    "collapsed": false
   },
   "outputs": [
    {
     "data": {
      "text/plain": [
       "3121.2858582600984"
      ]
     },
     "execution_count": 141,
     "metadata": {},
     "output_type": "execute_result"
    }
   ],
   "source": [
    "variance(letter_lengths)"
   ]
  },
  {
   "cell_type": "markdown",
   "metadata": {},
   "source": [
    "and the standard deviation:"
   ]
  },
  {
   "cell_type": "code",
   "execution_count": 142,
   "metadata": {
    "collapsed": false
   },
   "outputs": [
    {
     "data": {
      "text/plain": [
       "55.86846926720025"
      ]
     },
     "execution_count": 142,
     "metadata": {},
     "output_type": "execute_result"
    }
   ],
   "source": [
    "stdev(letter_lengths)"
   ]
  },
  {
   "cell_type": "markdown",
   "metadata": {},
   "source": [
    "To obtain a better understanding of the distribution we're dealing with, it's a good idea to plot the distribution using a historgram or some density. Again, just show some of the cool stuff that is included in the Anaconda distrubtion, we make use of another wonderful library called [seaborn](http://stanford.edu/~mwaskom/software/seaborn/). To make use library we first need to import it. \n",
    "\n",
    "**Before you do that, please execute the following line which will make sure that the plots are shown in the notebook.**"
   ]
  },
  {
   "cell_type": "code",
   "execution_count": 147,
   "metadata": {
    "collapsed": true
   },
   "outputs": [],
   "source": [
    "%matplotlib inline"
   ]
  },
  {
   "cell_type": "code",
   "execution_count": 149,
   "metadata": {
    "collapsed": false
   },
   "outputs": [
    {
     "data": {
      "text/plain": [
       "<matplotlib.axes._subplots.AxesSubplot at 0x1131bb240>"
      ]
     },
     "execution_count": 149,
     "metadata": {},
     "output_type": "execute_result"
    },
    {
     "data": {
      "image/png": "[encoded data removed]",
      "text/plain": [
       "<matplotlib.figure.Figure at 0x11367d748>"
      ]
     },
     "metadata": {},
     "output_type": "display_data"
    }
   ],
   "source": [
    "import seaborn\n",
    "\n",
    "seaborn.distplot(letter_lengths)"
   ]
  },
  {
   "cell_type": "markdown",
   "metadata": {},
   "source": [
    "Well, ain't that a pretty normal distribution! Now let's get a little more sophisticated. The corpus we're dealing with is a chain letter corpus Therefore, we could naively assume that most letters are very much alike. The letters are chronologically ordered on the website, and we downloaded them in that order, which allows to conveniently plot the number of new word types we attest with every new letter. Execute the following cell to see a list of all urls we downloaded:"
   ]
  },
  {
   "cell_type": "code",
   "execution_count": 186,
   "metadata": {
    "collapsed": false
   },
   "outputs": [
    {
     "data": {
      "text/plain": [
       "['le1974-10_dl_n27.htm',\n",
       " 'le1975p_dl_n_sherman.htm',\n",
       " 'le1975_dl_n23_a1.htm',\n",
       " 'le1975_dl_n26%2817cpls%29_wife%21_a2.htm',\n",
       " 'le1976-07-26p_dl_fege_xlist_q20.htm',\n",
       " 'le1977-06-08_dl_fgge_q20.htm',\n",
       " 'le1977-09-22p1_dl_TrustLast_q20.htm',\n",
       " 'le1978-04_dl_q20n0.htm',\n",
       " 'le1979-01_dl_xmoney%282%29_q20.htm',\n",
       " 'le1979-05_dl_tw%21.htm',\n",
       " 'le1979-06-21_dl_t_q20n0.htm',\n",
       " 'le1979-06_dl_ignor_wt.htm',\n",
       " 'le1979-07-30p_dl_w%27t.htm',\n",
       " 'le1980-12-23_dl_wt_dates.htm',\n",
       " 'le1980_dl_wt.htm',\n",
       " 'le1980u_dl_B-L29_wb.htm',\n",
       " 'le1980_dl_wb%21.htm',\n",
       " 'le1980u_dl_wt.htm',\n",
       " 'le1980uup_dl_wt_gold.htm',\n",
       " 'le1981-01-28p1_dl_wb.htm',\n",
       " 'le1981-04_dl_wt.htm',\n",
       " 'le1982-01-28_dl_m_t.htm',\n",
       " 'le1982-02-28_dl_wt.htm',\n",
       " 'le1982-09-20_dl_wt_dates.htm',\n",
       " 'le1982_dl_wb.htm',\n",
       " 'le1983-02_dl_w%28k%29.htm',\n",
       " 'le1983-04_dl_w%28k%29.htm',\n",
       " 'le1983-05_dl_w%28k%29.htm',\n",
       " 'le1983-06-13_dl_wl%21_e.htm',\n",
       " 'le1983-06-30_dl_wt%27.htm',\n",
       " 'le1983-10-04_dl_wk%21.htm',\n",
       " 'le1983_dl_wl.htm',\n",
       " 'le1983_dl_wt.htm',\n",
       " 'le1984-05_dl_wk.htm',\n",
       " 'le1984-05_dl_wl.htm',\n",
       " 'le1984-06_dl_wl.htm',\n",
       " 'le1984-07_dl_wl_1.htm',\n",
       " 'le1984-07_dl_wl_2.htm',\n",
       " 'le1984-07_dl_wl_handwr.htm',\n",
       " 'le1984-08_dl_w%27l.htm',\n",
       " 'le1984-12_dl_wl_1.htm',\n",
       " 'le1984-12_dl_wl_2.htm',\n",
       " 'le1984-12_dl_wl_dot.htm',\n",
       " 'le1985_dl_wl_au.htm',\n",
       " 'le1985-03_dl_w0_.htm',\n",
       " 'le1985-04_dl_wl_reduced.htm',\n",
       " 'le1985-06_dl_wk.htm',\n",
       " 'le1985-12_dl_wl_h2pp.htm',\n",
       " 'le1985_dl_wl.htm',\n",
       " 'le1985_dl_wl_au.htm',\n",
       " 'le1985u_dl_w0_pounds_e.htm',\n",
       " 'le1986-04_dl_wk.htm',\n",
       " 'le1986-04_dl_wk-.htm',\n",
       " 'le1986-05_dl_wk_she%21.htm',\n",
       " 'le1986-05-08_dl_w-k%27.htm',\n",
       " 'le1986-12_dl_wk.htm',\n",
       " 'le1986u_dl_wk.htm',\n",
       " 'le1987-02_dl_wk-.htm',\n",
       " 'le1987-06_dl_wlj%21.htm',\n",
       " 'le1987-09_dl_wk.htm',\n",
       " 'le1987u_dl_wk_q10%21.htm',\n",
       " 'le1987u_dl_wt_gold.htm',\n",
       " 'le1988-03_dl_wk_e.htm',\n",
       " 'le1988-04u_dl_wk.htm',\n",
       " 'le1988-07_dl_wlc%21j.htm',\n",
       " 'le1988-11_dl_wk.htm',\n",
       " 'le1988-11_dl_wk_retype.htm',\n",
       " 'le1988_dl_w%28l%29cj.htm',\n",
       " 'le1988_dl_wl.htm',\n",
       " 'le1989_dl_w-k.htm',\n",
       " 'le1989_dl_wk_rewr_notes.htm',\n",
       " 'le1989_dl_wlcj.htm',\n",
       " 'le1989-03_dl_wlcj.htm',\n",
       " 'le1989-04_dl_wk.htm',\n",
       " 'le1989-07_dl_wlcj_rec-fate.htm',\n",
       " 'le1989-12_dl_wk.htm',\n",
       " 'le1989p_dl_wk.htm',\n",
       " 'le1990-01_dl_w%27lcj.htm',\n",
       " 'le1990-03_dl_wlcj.htm',\n",
       " 'le1990-04_dl_wlcj.htm',\n",
       " 'le1990-05_dl_wlcj.htm',\n",
       " 'le1990-05u_dl_wk-.htm',\n",
       " 'le1990-07_dl_wlcj.htm',\n",
       " 'le1990-08_dl_wlcj.htm',\n",
       " 'le1990-12_dl_w+lcj.htm',\n",
       " 'le1990-12_dl_wjlcj.htm',\n",
       " 'le1990-12_dl_wlcj.htm',\n",
       " 'le1990u_dl_she-died_wlcj_B-L28.htm',\n",
       " 'le1991-02_dl_wjlcj.htm',\n",
       " 'le1991-02_dl_w%27lcj_dates.htm',\n",
       " 'le1991-03_dl_w%27lj_rewr.htm',\n",
       " 'le1991-03u_dl_wjlcj.htm',\n",
       " 'le1991-03u_dl_wlcj.htm',\n",
       " 'le1991-04_dl_wlcj_au.htm',\n",
       " 'le1991-05_dl_wlcj.htm',\n",
       " 'le1991-11_dl_w0cj.htm',\n",
       " 'le1991-11u_dl_wk.htm',\n",
       " 'le1991-11u_dl_wlcj.htm',\n",
       " 'le1991u_dl_w-%28kc%29%21.htm',\n",
       " 'le1991u_dl_w-kc.htm',\n",
       " 'le1991u_dl_w-%28kc%29%21.htm',\n",
       " 'le1992-02_dl_w0c.htm',\n",
       " 'le1992-02_dl_wk.htm',\n",
       " 'le1992-04_dl_wlcj.htm',\n",
       " 'le1992-05_dl_wlcj.htm',\n",
       " 'le1992-05-27_dl_w-lcj_dates.htm',\n",
       " 'le1992-06_dl_w%27lcj.htm',\n",
       " 'le1992-07_dl_wlcj.htm',\n",
       " 'le1992-10_dl_w%27lcj_e.htm',\n",
       " 'le1993-04_dl_w-%28kcl%29%21.htm',\n",
       " 'le1993-05_dl_wlcj.htm',\n",
       " 'le1993-06u_dl_wlcj_retyp2.htm',\n",
       " 'le1993-12_dl_wlc_j3-16.htm',\n",
       " 'le1993u_dl_wjklc%28%21%29.htm',\n",
       " 'le1994-03p_dl_wlcj_nature.htm',\n",
       " 'le1994-03_dl_wlcj+.htm',\n",
       " 'le1994-05_dl_wk%27.htm',\n",
       " 'le1994-06_dl_w-kcl.htm',\n",
       " 'le1994-10_dl_wlc_mhdies.htm',\n",
       " 'le1994-11_dl_wlcj.htm',\n",
       " 'le1994-12_dl_w%28klc%29%21.htm',\n",
       " 'le1995-01_dl_w-kcl.htm',\n",
       " 'le1995-01_dl_wk+.htm',\n",
       " 'le1995-03_dl_wk.htm',\n",
       " 'le1995-07-13_dl_wl+cj_retype-dates.htm',\n",
       " 'le1995-08_dl_wklc.htm',\n",
       " 'le1995-08_dl_wlcj.htm',\n",
       " 'le1995-09_dl_wk_rewrite.htm',\n",
       " 'le1995-09_dl_wklcj.htm',\n",
       " 'le1995-09_dl_wlcj.htm',\n",
       " 'le1995-10_dl_w+lcj.htm',\n",
       " 'le1996-01_dl_wlcj.htm',\n",
       " 'le1996-02_dl_wjklc.htm',\n",
       " 'le1996-03_dl_wklc.htm',\n",
       " 'le1996-04_dl_wl%27cj.htm',\n",
       " 'le1996-05_dl_w+lc.htm',\n",
       " 'le1996-07_dl_w-kcl.htm',\n",
       " 'le1996-08_dl_wjklc.htm',\n",
       " 'le1996-08_dl_wklc.htm',\n",
       " 'le1996-08_dl_wlcj.htm',\n",
       " 'le1996-09_dl_wklc.htm',\n",
       " 'le1996-11_dl_wjklc.htm',\n",
       " 'le1996-11_dl_w-lcj_miracle.htm',\n",
       " 'le1997-01_dl_wklc_h2pp.htm',\n",
       " 'le1997-02_dl_wjklc.htm',\n",
       " 'le1997-03_dl_wlcj.htm',\n",
       " 'le1997-07_dl_wk+c_gift.htm',\n",
       " 'le1997-07_dl_wk%27cl.htm',\n",
       " 'le1997-08_dl_w+lc_au.htm',\n",
       " 'le1997-10_dl_wklcj.htm',\n",
       " 'le1997u_dl_wlcj_rewr.htm',\n",
       " 'le1998-07_dl_wlcj.htm',\n",
       " 'le1999-03_dl_w%27lcl_fr.htm',\n",
       " 'le2003-02_dl_w-lcj.htm',\n",
       " 'le2004_dl_wlc_eritrea.htm',\n",
       " 'le2004-07_dl_xsign_w-lc.htm',\n",
       " 'le2004-10_dl_wklc.htm',\n",
       " 'le2005-08_dl_xsign_w-lc.htm']"
      ]
     },
     "execution_count": 186,
     "metadata": {},
     "output_type": "execute_result"
    }
   ],
   "source": [
    "death_lottery_links"
   ]
  },
  {
   "cell_type": "markdown",
   "metadata": {},
   "source": [
    "My initial hypothesis would be that after seeing only a few letters, the new word curve will reach its asymptote. "
   ]
  },
  {
   "cell_type": "code",
   "execution_count": 164,
   "metadata": {
    "collapsed": false
   },
   "outputs": [
    {
     "data": {
      "text/plain": [
       "[<matplotlib.lines.Line2D at 0x113e37390>]"
      ]
     },
     "execution_count": 164,
     "metadata": {},
     "output_type": "execute_result"
    },
    {
     "data": {
      "image/png": "[encoded data removed]",
      "text/plain": [
       "<matplotlib.figure.Figure at 0x113b9e320>"
      ]
     },
     "metadata": {},
     "output_type": "display_data"
    }
   ],
   "source": [
    "words_seen = set()\n",
    "unique_words_so_far = []\n",
    "for letter in death_lottery_corpus:\n",
    "    for word in letter:\n",
    "        if word not in words_seen:\n",
    "            words_seen.add(word)\n",
    "    unique_words_so_far.append(len(words_seen))\n",
    "\n",
    "sns.plt.plot(unique_words_so_far)"
   ]
  },
  {
   "cell_type": "markdown",
   "metadata": {},
   "source": [
    "Although we can observe that the number of new word types diminishes over time, the effect is definitely not as strong as I would have thought. Although we must have closer look at the data, this curve might suggest that the letters have changed quite a bit over time. Let's have look at some parts of the first and at the last letter in the corpus. Note that these fragments are rather unreadable, because we removed all punctuation."
   ]
  },
  {
   "cell_type": "code",
   "execution_count": 180,
   "metadata": {
    "collapsed": false
   },
   "outputs": [
    {
     "name": "stdout",
     "output_type": "stream",
     "text": [
      "sent to you for good luck the original copy came from the netherlands it has been around the world times the luck has been sent to you you are to receive good luck within days of receiving this letter it is no joke you will receive it in the mail send copies of this letter to people you think need good luck please do not send money do not keep this letter it must leave within hours after you receive it a b s officer received don elliot received but he lost it because he broke the chain while in the phillipines general walsh lost his life six days after he received this letter he failed to circulate the prayer\n"
     ]
    }
   ],
   "source": [
    "print(' '.join(death_lottery_corpus[0][30:150]))"
   ]
  },
  {
   "cell_type": "code",
   "execution_count": 185,
   "metadata": {
    "collapsed": false
   },
   "outputs": [
    {
     "name": "stdout",
     "output_type": "stream",
     "text": [
      "sent to you for good luck the original is in new england it has been around the world nine times you will receive good luck with in four days provided you in turn send it on this is no joke you will receive good luck don t send money as fate has no price do not keep this letter it must leave your hands in hours a unites states air force officer received john a elliot received and lost it because she broke the chain while in the philippines genio welsh lost his wife days after receiving the letter however before her death he received please send copies\n"
     ]
    }
   ],
   "source": [
    "print(' '.join(death_lottery_corpus[-1][42:150]))"
   ]
  },
  {
   "cell_type": "markdown",
   "metadata": {},
   "source": [
    "As we can see, although the letters bear many similarities there are also some interesting differences. In the first letter, we read about a general names Walsh who lost life. In the last letter the general has become a genio who lost his wife. In the next section we will we explore the corpus a little further with the help of some basic data visualization."
   ]
  },
  {
   "cell_type": "markdown",
   "metadata": {},
   "source": [
    "## Python for Data Visualization"
   ]
  },
  {
   "cell_type": "markdown",
   "metadata": {},
   "source": [
    "<img src=\"images/data-visualization.jpg\" align=\"right\" width=400/>"
   ]
  },
  {
   "cell_type": "markdown",
   "metadata": {},
   "source": [
    "---"
   ]
  },
  {
   "cell_type": "markdown",
   "metadata": {},
   "source": [
    "You've reached the end of the tutorial. Ignore the code below, it's just here to make the page a little prettier."
   ]
  },
  {
   "cell_type": "code",
   "execution_count": 37,
   "metadata": {
    "collapsed": false
   },
   "outputs": [
    {
     "data": {
      "text/html": [
       "/*\n",
       "Placeholder for custom user CSS\n",
       "\n",
       "mainly to be overridden in profile/static/custom/custom.css\n",
       "\n",
       "This will always be an empty file in IPython\n",
       "*/\n",
       "<style>\n",
       "\n",
       "    @import url(http://fonts.googleapis.com/css?family=Inconsolata);\n",
       "\n",
       "    div.cell{\n",
       "        font-family:'Lucida Grande','helvetica','sans';\n",
       "        width:800px;\n",
       "        margin-left:16% !important;\n",
       "        margin-right:auto;\n",
       "    }\n",
       "\n",
       "    div.text_cell_render{\n",
       "        font-family: 'Lucida Grande','helvetica','sans';\n",
       "        line-height: 145%;\n",
       "        font-size: 100%;\n",
       "        width:800px;\n",
       "        margin-left:auto;\n",
       "        margin-right:auto;\n",
       "    }\n",
       "    .CodeMirror{\n",
       "        font-family: \"Inconsolata\", source-code-pro, Consolas, monospace;\n",
       "    }\n",
       "    .prompt{\n",
       "        display: None;\n",
       "    }    \n",
       "    .warning{\n",
       "        color: rgb( 240, 20, 20 )\n",
       "        }  \n",
       "</style>\n",
       "<script>\n",
       "    MathJax.Hub.Config({\n",
       "                        TeX: {\n",
       "                           extensions: [\"AMSmath.js\"]\n",
       "                           },\n",
       "                tex2jax: {\n",
       "                    inlineMath: [ ['$','$'], [\"\\\\(\",\"\\\\)\"] ],\n",
       "                    displayMath: [ ['$$','$$'], [\"\\\\[\",\"\\\\]\"] ]\n",
       "                },\n",
       "                displayAlign: 'center', // Change this to 'center' to center equations.\n",
       "                \"HTML-CSS\": {\n",
       "                    styles: {'.MathJax_Display': {\"margin\": 4}}\n",
       "                }\n",
       "        });\n",
       "</script>"
      ],
      "text/plain": [
       "<IPython.core.display.HTML object>"
      ]
     },
     "execution_count": 37,
     "metadata": {},
     "output_type": "execute_result"
    }
   ],
   "source": [
    "from IPython.core.display import HTML\n",
    "def css_styling():\n",
    "    styles = open(\"styles/custom.css\", \"r\").read()\n",
    "    return HTML(styles)\n",
    "css_styling()"
   ]
  },
  {
   "cell_type": "markdown",
   "metadata": {},
   "source": [
    "<p><small><a rel=\"license\" href=\"http://creativecommons.org/licenses/by-sa/4.0/\"><img alt=\"Creative Commons License\" style=\"border-width:0\" src=\"https://i.creativecommons.org/l/by-sa/4.0/88x31.png\" /></a><br /><span xmlns:dct=\"http://purl.org/dc/terms/\" property=\"dct:title\">Python for Lunch</span> by <a xmlns:cc=\"http://creativecommons.org/ns#\" href=\"https://github.com/fbkarsdorp/python-for-lunch\" property=\"cc:attributionName\" rel=\"cc:attributionURL\">https://github.com/fbkarsdorp/python-for-lunch</a> is licensed under a <a rel=\"license\" href=\"http://creativecommons.org/licenses/by-sa/4.0/\">Creative Commons Attribution-ShareAlike 4.0 International License</a>. Based on a work at <a xmlns:dct=\"http://purl.org/dc/terms/\" href=\"https://github.com/fbkarsdorp/python-for-lunch\" rel=\"dct:source\">https://github.com/fbkarsdorp/python-for-lunch</a>.</small></p>"
   ]
  },
  {
   "cell_type": "markdown",
   "metadata": {},
   "source": [
    "---"
   ]
  }
 ],
 "metadata": {
  "kernelspec": {
   "display_name": "Python 3",
   "language": "python",
   "name": "python3"
  },
  "language_info": {
   "codemirror_mode": {
    "name": "ipython",
    "version": 3
   },
   "file_extension": ".py",
   "mimetype": "text/x-python",
   "name": "python",
   "nbconvert_exporter": "python",
   "pygments_lexer": "ipython3",
   "version": "3.4.3"
  }
 },
 "nbformat": 4,
 "nbformat_minor": 0
}
